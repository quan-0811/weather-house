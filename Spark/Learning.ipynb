{
 "cells": [
  {
   "cell_type": "code",
   "execution_count": null,
   "id": "2c327c2e",
   "metadata": {},
   "outputs": [],
   "source": [
    "import pyspark\n"
   ]
  },
  {
   "cell_type": "code",
   "execution_count": 19,
   "id": "00c40dec",
   "metadata": {},
   "outputs": [
    {
     "name": "stdout",
     "output_type": "stream",
     "text": [
      "✓ CSV file 'weather_data.csv' created successfully!\n",
      "\n",
      "Dataset Preview:\n",
      "    City        Date  Temperature  Humidity\n",
      "0  Hanoi  2025-10-14         21.3        68\n",
      "1  Hanoi  2025-10-15         23.4        64\n",
      "2  Hanoi  2025-10-16         28.4        81\n",
      "3  Hanoi  2025-10-17         28.4        77\n",
      "4  Hanoi  2025-10-18         21.9        73\n",
      "5  Hanoi  2025-10-19         21.3        62\n",
      "6  Hanoi  2025-10-20         23.2        76\n",
      "7  Hanoi  2025-10-21         27.0        77\n",
      "8  Hanoi  2025-10-22         23.0        80\n",
      "9  Hanoi  2025-10-23         28.0        73\n",
      "\n",
      "Total entries: 50\n"
     ]
    }
   ],
   "source": [
    "import pandas as pd\n",
    "from datetime import datetime, timedelta\n",
    "import random\n",
    "\n",
    "random.seed(42)\n",
    "cities = ['Hanoi', 'Ho Chi Minh City', 'Da Nang', 'Can Tho', 'Hai Phong']\n",
    "start_date = datetime.now() - timedelta(days=9)\n",
    "dates = [(start_date + timedelta(days=i)).strftime('%Y-%m-%d') for i in range(10)]\n",
    "data = []\n",
    "\n",
    "for city in cities:\n",
    "    base_temp = random.randint(25, 32)\n",
    "    for date in dates:\n",
    "        temperature = base_temp + random.uniform(-5, 5)\n",
    "        humidity = random.randint(60, 90)\n",
    "        data.append({\n",
    "            'City': city,\n",
    "            'Date': date,\n",
    "            'Temperature': round(temperature, 1),\n",
    "            'Humidity': humidity\n",
    "        })\n",
    "\n",
    "df = pd.DataFrame(data)\n",
    "filename = 'weather_data.csv'\n",
    "\n",
    "# FIX: Remove sheet_name parameter for CSV files\n",
    "df.to_csv(filename, index=False)\n",
    "\n",
    "print(f\"✓ CSV file '{filename}' created successfully!\")\n",
    "print(f\"\\nDataset Preview:\")\n",
    "print(df.head(10))\n",
    "print(f\"\\nTotal entries: {len(df)}\")\n"
   ]
  },
  {
   "cell_type": "code",
   "execution_count": null,
   "id": "182732e0",
   "metadata": {},
   "outputs": [],
   "source": [
    "df = pd.read_csv(\"weather_data.csv\")"
   ]
  },
  {
   "cell_type": "code",
   "execution_count": null,
   "id": "64290c6c",
   "metadata": {},
   "outputs": [
    {
     "name": "stdout",
     "output_type": "stream",
     "text": [
      "✓ SparkSession created successfully!\n",
      "Spark version: 4.0.1\n"
     ]
    }
   ],
   "source": [
    "import os\n",
    "from pyspark.sql import SparkSession\n",
    "\n",
    "os.environ['PYSPARK_PYTHON'] = 'python'\n",
    "os.environ['PYSPARK_DRIVER_PYTHON'] = 'python'\n",
    "SparkSession.getActiveSession().stop() if SparkSession.getActiveSession() else None\n",
    "spark = SparkSession.builder \\\n",
    "    .appName(\"WeatherDataProcessing\") \\\n",
    "    .master(\"local[*]\") \\\n",
    "    .config(\"spark.driver.memory\", \"2g\") \\\n",
    "    .config(\"spark.sql.shuffle.partitions\", \"4\") \\\n",
    "    .config(\"spark.ui.enabled\", \"false\") \\\n",
    "    .config(\"spark.driver.bindAddress\", \"127.0.0.1\") \\\n",
    "    .getOrCreate()\n",
    "spark.sparkContext.setLogLevel(\"ERROR\")\n",
    "\n",
    "print(\"✓ SparkSession created successfully!\")\n",
    "print(f\"Spark version: {spark.version}\")\n"
   ]
  },
  {
   "cell_type": "code",
   "execution_count": 36,
   "id": "3e0c672a",
   "metadata": {},
   "outputs": [
    {
     "name": "stdout",
     "output_type": "stream",
     "text": [
      "+----------------+----------+-----------+--------+\n",
      "|            City|      Date|Temperature|Humidity|\n",
      "+----------------+----------+-----------+--------+\n",
      "|           Hanoi|2025-10-14|       21.3|      68|\n",
      "|           Hanoi|2025-10-15|       23.4|      64|\n",
      "|           Hanoi|2025-10-16|       28.4|      81|\n",
      "|           Hanoi|2025-10-17|       28.4|      77|\n",
      "|           Hanoi|2025-10-18|       21.9|      73|\n",
      "|           Hanoi|2025-10-19|       21.3|      62|\n",
      "|           Hanoi|2025-10-20|       23.2|      76|\n",
      "|           Hanoi|2025-10-21|       27.0|      77|\n",
      "|           Hanoi|2025-10-22|       23.0|      80|\n",
      "|           Hanoi|2025-10-23|       28.0|      73|\n",
      "|Ho Chi Minh City|2025-10-14|       27.5|      68|\n",
      "|Ho Chi Minh City|2025-10-15|       31.1|      60|\n",
      "|Ho Chi Minh City|2025-10-16|       30.6|      65|\n",
      "|Ho Chi Minh City|2025-10-17|       30.0|      70|\n",
      "|Ho Chi Minh City|2025-10-18|       25.8|      66|\n",
      "|Ho Chi Minh City|2025-10-19|       32.6|      70|\n",
      "|Ho Chi Minh City|2025-10-20|       24.0|      72|\n",
      "|Ho Chi Minh City|2025-10-21|       24.0|      87|\n",
      "|Ho Chi Minh City|2025-10-22|       26.4|      68|\n",
      "|Ho Chi Minh City|2025-10-23|       31.1|      83|\n",
      "+----------------+----------+-----------+--------+\n",
      "only showing top 20 rows\n"
     ]
    }
   ],
   "source": [
    "df_pyspark = spark.read.csv(\"weather_data.csv\", header=True, inferSchema=True)\n",
    "df_pyspark.show()"
   ]
  },
  {
   "cell_type": "code",
   "execution_count": 23,
   "id": "6257b278",
   "metadata": {},
   "outputs": [
    {
     "name": "stdout",
     "output_type": "stream",
     "text": [
      "root\n",
      " |-- City: string (nullable = true)\n",
      " |-- Date: date (nullable = true)\n",
      " |-- Temperature: double (nullable = true)\n",
      " |-- Humidity: integer (nullable = true)\n",
      "\n"
     ]
    }
   ],
   "source": [
    "df_pyspark.printSchema()"
   ]
  },
  {
   "cell_type": "code",
   "execution_count": 25,
   "id": "c1ea74e3",
   "metadata": {},
   "outputs": [
    {
     "name": "stdout",
     "output_type": "stream",
     "text": [
      "+-----+----------+-----------+\n",
      "| City|      Date|Temperature|\n",
      "+-----+----------+-----------+\n",
      "|Hanoi|2025-10-14|       21.3|\n",
      "|Hanoi|2025-10-15|       23.4|\n",
      "|Hanoi|2025-10-16|       28.4|\n",
      "|Hanoi|2025-10-17|       28.4|\n",
      "|Hanoi|2025-10-18|       21.9|\n",
      "|Hanoi|2025-10-19|       21.3|\n",
      "|Hanoi|2025-10-20|       23.2|\n",
      "|Hanoi|2025-10-21|       27.0|\n",
      "|Hanoi|2025-10-22|       23.0|\n",
      "|Hanoi|2025-10-23|       28.0|\n",
      "+-----+----------+-----------+\n",
      "only showing top 10 rows\n"
     ]
    }
   ],
   "source": [
    "df_pyspark.select(\"City\", \"Date\", \"Temperature\").show(10)"
   ]
  },
  {
   "cell_type": "code",
   "execution_count": 26,
   "id": "0ccc6fc4",
   "metadata": {},
   "outputs": [
    {
     "name": "stdout",
     "output_type": "stream",
     "text": [
      "+-------+----------------+------------------+-----------------+\n",
      "|summary|            City|       Temperature|         Humidity|\n",
      "+-------+----------------+------------------+-----------------+\n",
      "|  count|              50|                50|               50|\n",
      "|   mean|            NULL|29.305999999999997|            74.16|\n",
      "| stddev|            NULL| 3.997928545267064|8.574666055257412|\n",
      "|    min|         Can Tho|              21.3|               60|\n",
      "|    max|Ho Chi Minh City|              36.9|               90|\n",
      "+-------+----------------+------------------+-----------------+\n",
      "\n"
     ]
    }
   ],
   "source": [
    "df_pyspark.describe().show()"
   ]
  },
  {
   "cell_type": "code",
   "execution_count": 37,
   "id": "de102c05",
   "metadata": {},
   "outputs": [
    {
     "data": {
      "text/plain": [
       "[('City', 'string'),\n",
       " ('Date', 'date'),\n",
       " ('Temperature', 'double'),\n",
       " ('Humidity', 'int')]"
      ]
     },
     "execution_count": 37,
     "metadata": {},
     "output_type": "execute_result"
    }
   ],
   "source": [
    "df_pyspark.dtypes"
   ]
  },
  {
   "cell_type": "code",
   "execution_count": 38,
   "id": "31897819",
   "metadata": {},
   "outputs": [],
   "source": [
    "df_pyspark = df_pyspark.withColumn(\"Temperature_F\", (df_pyspark[\"Temperature\"] * 9/5) + 32)\n"
   ]
  },
  {
   "cell_type": "code",
   "execution_count": 39,
   "id": "d0bbb186",
   "metadata": {},
   "outputs": [
    {
     "name": "stdout",
     "output_type": "stream",
     "text": [
      "+----------------+----------+-----------+--------+-----------------+\n",
      "|            City|      Date|Temperature|Humidity|    Temperature_F|\n",
      "+----------------+----------+-----------+--------+-----------------+\n",
      "|           Hanoi|2025-10-14|       21.3|      68|            70.34|\n",
      "|           Hanoi|2025-10-15|       23.4|      64|            74.12|\n",
      "|           Hanoi|2025-10-16|       28.4|      81|            83.12|\n",
      "|           Hanoi|2025-10-17|       28.4|      77|            83.12|\n",
      "|           Hanoi|2025-10-18|       21.9|      73|            71.42|\n",
      "|           Hanoi|2025-10-19|       21.3|      62|            70.34|\n",
      "|           Hanoi|2025-10-20|       23.2|      76|73.75999999999999|\n",
      "|           Hanoi|2025-10-21|       27.0|      77|             80.6|\n",
      "|           Hanoi|2025-10-22|       23.0|      80|             73.4|\n",
      "|           Hanoi|2025-10-23|       28.0|      73|             82.4|\n",
      "|Ho Chi Minh City|2025-10-14|       27.5|      68|             81.5|\n",
      "|Ho Chi Minh City|2025-10-15|       31.1|      60|            87.98|\n",
      "|Ho Chi Minh City|2025-10-16|       30.6|      65|87.08000000000001|\n",
      "|Ho Chi Minh City|2025-10-17|       30.0|      70|             86.0|\n",
      "|Ho Chi Minh City|2025-10-18|       25.8|      66|            78.44|\n",
      "|Ho Chi Minh City|2025-10-19|       32.6|      70|            90.68|\n",
      "|Ho Chi Minh City|2025-10-20|       24.0|      72|             75.2|\n",
      "|Ho Chi Minh City|2025-10-21|       24.0|      87|             75.2|\n",
      "|Ho Chi Minh City|2025-10-22|       26.4|      68|            79.52|\n",
      "|Ho Chi Minh City|2025-10-23|       31.1|      83|            87.98|\n",
      "+----------------+----------+-----------+--------+-----------------+\n",
      "only showing top 20 rows\n"
     ]
    }
   ],
   "source": [
    "df_pyspark.show()"
   ]
  },
  {
   "cell_type": "code",
   "execution_count": 41,
   "id": "a2bcae34",
   "metadata": {},
   "outputs": [
    {
     "name": "stdout",
     "output_type": "stream",
     "text": [
      "+-----+----------+-----------+--------+-------------+\n",
      "| City|      Date|Temperature|Humidity|Temperature_F|\n",
      "+-----+----------+-----------+--------+-------------+\n",
      "|Hanoi|2025-10-14|       21.3|      68|        70.34|\n",
      "|Hanoi|2025-10-15|       23.4|      64|        74.12|\n",
      "|Hanoi|2025-10-16|       28.4|      81|        83.12|\n",
      "|Hanoi|2025-10-17|       NULL|      77|        83.12|\n",
      "|Hanoi|2025-10-18|       NULL|      73|        71.42|\n",
      "+-----+----------+-----------+--------+-------------+\n",
      "only showing top 5 rows\n",
      "\n",
      "Missing values count:\n",
      "City: 0\n",
      "Date: 0\n",
      "Temperature: 11\n",
      "Date: 0\n",
      "Temperature: 11\n",
      "Humidity: 0\n",
      "Temperature_F: 0\n",
      "Humidity: 0\n",
      "Temperature_F: 0\n"
     ]
    }
   ],
   "source": [
    "from pyspark.sql.functions import col, avg, count, when, rand\n",
    "from pyspark.ml.feature import VectorAssembler\n",
    "from pyspark.ml.regression import LinearRegression\n",
    "import random\n",
    "\n",
    "df_missing = df_pyspark.withColumn(\n",
    "    \"Temperature\",\n",
    "    when(rand() > 0.8, None).otherwise(col(\"Temperature\"))\n",
    ")\n",
    "\n",
    "df_missing.show(5)\n",
    "\n",
    "print(\"\\nMissing values count:\")\n",
    "for column in df_missing.columns:\n",
    "    missing_count = df_missing.filter(col(column).isNull()).count()\n",
    "    print(f\"{column}: {missing_count}\")"
   ]
  },
  {
   "cell_type": "code",
   "execution_count": 42,
   "id": "8d6169fe",
   "metadata": {},
   "outputs": [
    {
     "name": "stdout",
     "output_type": "stream",
     "text": [
      "+-----+----------+-----------------+--------+-------------+\n",
      "| City|      Date|      Temperature|Humidity|Temp_Category|\n",
      "+-----+----------+-----------------+--------+-------------+\n",
      "|Hanoi|2025-10-14|             21.3|      68|         Cool|\n",
      "|Hanoi|2025-10-15|             23.4|      64|         Cool|\n",
      "|Hanoi|2025-10-16|             28.4|      81|     Moderate|\n",
      "|Hanoi|2025-10-17|29.21794871794872|      77|     Moderate|\n",
      "|Hanoi|2025-10-18|29.21794871794872|      73|     Moderate|\n",
      "+-----+----------+-----------------+--------+-------------+\n",
      "only showing top 5 rows\n"
     ]
    }
   ],
   "source": [
    "mean_temp = df_missing.select(avg(\"Temperature\")).collect()[0][0]\n",
    "df_clean = df_missing.fillna(value=mean_temp, subset=[\"Temperature\"])\n",
    "df_clean = df_clean.withColumn(\n",
    "    \"Temp_Category\",\n",
    "    when(col(\"Temperature\") < 28, \"Cool\")\n",
    "    .when(col(\"Temperature\") < 32, \"Moderate\")\n",
    "    .otherwise(\"Hot\"))\n",
    "df_clean = df_clean.drop(\"Temperature_F\")\n",
    "\n",
    "df_clean.show(5)"
   ]
  },
  {
   "cell_type": "code",
   "execution_count": null,
   "id": "ed927c5b",
   "metadata": {},
   "outputs": [
    {
     "name": "stdout",
     "output_type": "stream",
     "text": [
      "Top High humidity locations:\n",
      "+---------+----------+-----------+--------+-------------+\n",
      "|     City|      Date|Temperature|Humidity|Temp_Category|\n",
      "+---------+----------+-----------+--------+-------------+\n",
      "|  Da Nang|2025-10-22|       35.6|      87|          Hot|\n",
      "|  Can Tho|2025-10-17|       34.0|      81|          Hot|\n",
      "|  Da Nang|2025-10-20|       33.6|      84|          Hot|\n",
      "|  Da Nang|2025-10-17|       33.2|      87|          Hot|\n",
      "|Hai Phong|2025-10-19|       30.7|      82|     Moderate|\n",
      "+---------+----------+-----------+--------+-------------+\n",
      "only showing top 5 rows\n",
      "+---------+----------+-----------+--------+-------------+\n",
      "|     City|      Date|Temperature|Humidity|Temp_Category|\n",
      "+---------+----------+-----------+--------+-------------+\n",
      "|  Da Nang|2025-10-22|       35.6|      87|          Hot|\n",
      "|  Can Tho|2025-10-17|       34.0|      81|          Hot|\n",
      "|  Da Nang|2025-10-20|       33.6|      84|          Hot|\n",
      "|  Da Nang|2025-10-17|       33.2|      87|          Hot|\n",
      "|Hai Phong|2025-10-19|       30.7|      82|     Moderate|\n",
      "+---------+----------+-----------+--------+-------------+\n",
      "only showing top 5 rows\n",
      "+----------------+------------------+------------+-----------------+\n",
      "|            City|          Avg_Temp|Avg_Humidity|Number_of_Records|\n",
      "+----------------+------------------+------------+-----------------+\n",
      "|         Da Nang|31.343589743589746|        76.1|               10|\n",
      "|         Can Tho|31.883589743589745|        72.7|               10|\n",
      "|       Hai Phong| 28.47358974358974|        78.0|               10|\n",
      "|           Hanoi| 25.40358974358974|        73.1|               10|\n",
      "|Ho Chi Minh City|28.985384615384618|        70.9|               10|\n",
      "+----------------+------------------+------------+-----------------+\n",
      "\n",
      "+----------------+------------------+------------+-----------------+\n",
      "|            City|          Avg_Temp|Avg_Humidity|Number_of_Records|\n",
      "+----------------+------------------+------------+-----------------+\n",
      "|         Da Nang|31.343589743589746|        76.1|               10|\n",
      "|         Can Tho|31.883589743589745|        72.7|               10|\n",
      "|       Hai Phong| 28.47358974358974|        78.0|               10|\n",
      "|           Hanoi| 25.40358974358974|        73.1|               10|\n",
      "|Ho Chi Minh City|28.985384615384618|        70.9|               10|\n",
      "+----------------+------------------+------------+-----------------+\n",
      "\n"
     ]
    }
   ],
   "source": [
    "high_humidity = df_clean.filter(col(\"Humidity\") > 80)\n",
    "sorted_data = high_humidity.orderBy(col(\"Temperature\").desc())\n",
    "\n",
    "print(\"Top High humidity locations:\")\n",
    "sorted_data.show(5)\n",
    "city_stats = df_clean.groupBy(\"City\").agg(\n",
    "    avg(\"Temperature\").alias(\"Avg_Temp\"),\n",
    "    avg(\"Humidity\").alias(\"Avg_Humidity\"),\n",
    "    count(\"*\").alias(\"Number_of_Records\")\n",
    ")\n",
    "\n",
    "\n",
    "city_stats.show()"
   ]
  },
  {
   "cell_type": "code",
   "execution_count": 44,
   "id": "c1ac501c",
   "metadata": {},
   "outputs": [
    {
     "name": "stdout",
     "output_type": "stream",
     "text": [
      "Coefficients: [0.11412238863858215,0.21254647584458647]\n",
      "Intercept: -40.79317501466185\n",
      "\n",
      "Sample Predictions:\n",
      "+-----------------+------------------+\n",
      "|      Temperature|        prediction|\n",
      "+-----------------+------------------+\n",
      "|             29.0|27.920891075860318|\n",
      "|             26.4|   29.424414708205|\n",
      "|29.21794871794872| 28.90089766930982|\n",
      "|             27.5|27.967985980158055|\n",
      "|             30.0| 28.83387018496898|\n",
      "+-----------------+------------------+\n",
      "only showing top 5 rows\n",
      "+-----------------+------------------+\n",
      "|      Temperature|        prediction|\n",
      "+-----------------+------------------+\n",
      "|             29.0|27.920891075860318|\n",
      "|             26.4|   29.424414708205|\n",
      "|29.21794871794872| 28.90089766930982|\n",
      "|             27.5|27.967985980158055|\n",
      "|             30.0| 28.83387018496898|\n",
      "+-----------------+------------------+\n",
      "only showing top 5 rows\n",
      "\n",
      "R-squared: -0.3663\n",
      "\n",
      "R-squared: -0.3663\n"
     ]
    }
   ],
   "source": [
    "from pyspark.sql.functions import to_date, dayofyear\n",
    "ml_data = df_clean.withColumn(\"Date\", to_date(\"Date\")) \\\n",
    "    .withColumn(\"DayOfYear\", dayofyear(\"Date\"))\n",
    "assembler = VectorAssembler(inputCols=[\"Humidity\", \"DayOfYear\"],outputCol=\"features\")\n",
    "\n",
    "\n",
    "final_data = assembler.transform(ml_data).select(\"features\", \"Temperature\")\n",
    "train_data, test_data = final_data.randomSplit([0.8, 0.2], seed=42)\n",
    "lr = LinearRegression(featuresCol=\"features\", labelCol=\"Temperature\")\n",
    "model = lr.fit(train_data)\n",
    "predictions = model.transform(test_data)\n",
    "print(\"Coefficients:\", model.coefficients)\n",
    "print(\"Intercept:\", model.intercept)\n",
    "print(\"\\nSample Predictions:\")\n",
    "predictions.select(\"Temperature\", \"prediction\").show(5)\n",
    "r2 = model.evaluate(test_data).r2\n",
    "print(f\"\\nR-squared: {r2:.4f}\")"
   ]
  }
 ],
 "metadata": {
  "kernelspec": {
   "display_name": "Python 3",
   "language": "python",
   "name": "python3"
  },
  "language_info": {
   "codemirror_mode": {
    "name": "ipython",
    "version": 3
   },
   "file_extension": ".py",
   "mimetype": "text/x-python",
   "name": "python",
   "nbconvert_exporter": "python",
   "pygments_lexer": "ipython3",
   "version": "3.12.9"
  }
 },
 "nbformat": 4,
 "nbformat_minor": 5
}
